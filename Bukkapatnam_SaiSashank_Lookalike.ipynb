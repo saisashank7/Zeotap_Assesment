{
 "cells": [
  {
   "cell_type": "code",
   "execution_count": 13,
   "id": "d0d9dfae",
   "metadata": {},
   "outputs": [],
   "source": [
    "import pandas as pd\n",
    "from sklearn.metrics.pairwise import cosine_similarity\n",
    "from sklearn.preprocessing import StandardScaler\n",
    "\n",
    "\n",
    "customers = pd.read_csv('Customers.csv')\n",
    "transactions = pd.read_csv('Transactions.csv')\n",
    "products = pd.read_csv('Products.csv')\n",
    "\n"
   ]
  },
  {
   "cell_type": "code",
   "execution_count": 14,
   "id": "95cd492d",
   "metadata": {},
   "outputs": [],
   "source": [
    "# Merge data\n",
    "data = transactions.merge(customers, on='CustomerID').merge(products, on='ProductID')\n",
    "\n",
    "\n",
    "# Rename price columns for clarity\n",
    "data.rename(columns={'Price_x': 'TransactionPrice', 'Price_y': 'ProductPrice'}, inplace=True)\n",
    "\n",
    "# Feature engineering\n",
    "customer_features = data.groupby('CustomerID').agg({\n",
    "    'TotalValue': 'sum',  # Total spending\n",
    "    'TransactionID': 'count',  # Purchase frequency\n",
    "    'TransactionPrice': 'mean',  # Average transaction value\n",
    "    'Category': lambda x: x.mode()[0]  # Favorite product category\n",
    "}).rename(columns={\n",
    "    'TotalValue': 'TotalSpending',\n",
    "    'TransactionID': 'PurchaseFrequency',\n",
    "    'TransactionPrice': 'AvgTransactionValue',\n",
    "    'Category': 'FavoriteCategory'\n",
    "})"
   ]
  },
  {
   "cell_type": "code",
   "execution_count": 15,
   "id": "da2594df",
   "metadata": {},
   "outputs": [],
   "source": [
    "\n",
    "# Encode categorical feature\n",
    "customer_features = pd.get_dummies(customer_features, columns=['FavoriteCategory'], drop_first=True)\n",
    "\n",
    "# Scale the features\n",
    "from sklearn.preprocessing import StandardScaler\n",
    "scaler = StandardScaler()\n",
    "scaled_features = scaler.fit_transform(customer_features)\n",
    "\n",
    "# Compute similarity\n",
    "from sklearn.metrics.pairwise import cosine_similarity\n",
    "similarity_matrix = cosine_similarity(scaled_features)"
   ]
  },
  {
   "cell_type": "code",
   "execution_count": 16,
   "id": "3bdfdb37",
   "metadata": {},
   "outputs": [],
   "source": [
    "# Create Lookalike recommendations\n",
    "lookalikes = {}\n",
    "for i, customer_id in enumerate(customer_features.index):\n",
    "    similar_indices = similarity_matrix[i].argsort()[::-1][1:4]  # Top 3 similar customers\n",
    "    similar_customers = customer_features.index[similar_indices]\n",
    "    similarity_scores = similarity_matrix[i][similar_indices]\n",
    "    lookalikes[customer_id] = list(zip(similar_customers, similarity_scores))\n",
    "\n",
    "# Prepare the Lookalike.csv file\n",
    "lookalike_df = pd.DataFrame([\n",
    "    {\"CustomerID\": cust, \"Lookalikes\": str(lookalikes[cust])}\n",
    "    for cust in customer_features.index[:20]  # First 20 customers\n",
    "])\n",
    "lookalike_df.to_csv(r\"C:\\Users\\saisa\\Downloads\\Bukkapatnam_SaiSashank_Lookalike.csv\", index=False)\n"
   ]
  },
  {
   "cell_type": "code",
   "execution_count": null,
   "id": "9ad7b37d",
   "metadata": {},
   "outputs": [],
   "source": []
  }
 ],
 "metadata": {
  "kernelspec": {
   "display_name": "Python 3 (ipykernel)",
   "language": "python",
   "name": "python3"
  },
  "language_info": {
   "codemirror_mode": {
    "name": "ipython",
    "version": 3
   },
   "file_extension": ".py",
   "mimetype": "text/x-python",
   "name": "python",
   "nbconvert_exporter": "python",
   "pygments_lexer": "ipython3",
   "version": "3.11.3"
  }
 },
 "nbformat": 4,
 "nbformat_minor": 5
}
